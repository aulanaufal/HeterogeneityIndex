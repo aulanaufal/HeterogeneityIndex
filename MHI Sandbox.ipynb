{
 "cells": [
  {
   "cell_type": "markdown",
   "metadata": {},
   "source": [
    "# Import Modules "
   ]
  },
  {
   "cell_type": "code",
   "execution_count": 242,
   "metadata": {},
   "outputs": [],
   "source": [
    "import numpy as np\n",
    "import pandas as pd\n",
    "\n",
    "import matplotlib.pyplot as plt\n",
    "import seaborn as sns\n",
    "%matplotlib inline"
   ]
  },
  {
   "cell_type": "code",
   "execution_count": 243,
   "metadata": {},
   "outputs": [],
   "source": [
    "from __future__ import print_function\n",
    "from ipywidgets import interact, interactive, fixed, interact_manual\n",
    "import ipywidgets as widgets\n",
    "from IPython.display import display,clear_output"
   ]
  },
  {
   "cell_type": "markdown",
   "metadata": {},
   "source": [
    "# Prepare Dataset"
   ]
  },
  {
   "cell_type": "code",
   "execution_count": 244,
   "metadata": {},
   "outputs": [
    {
     "data": {
      "text/html": [
       "<div>\n",
       "<style scoped>\n",
       "    .dataframe tbody tr th:only-of-type {\n",
       "        vertical-align: middle;\n",
       "    }\n",
       "\n",
       "    .dataframe tbody tr th {\n",
       "        vertical-align: top;\n",
       "    }\n",
       "\n",
       "    .dataframe thead th {\n",
       "        text-align: right;\n",
       "    }\n",
       "</style>\n",
       "<table border=\"1\" class=\"dataframe\">\n",
       "  <thead>\n",
       "    <tr style=\"text-align: right;\">\n",
       "      <th></th>\n",
       "      <th>date</th>\n",
       "      <th>well</th>\n",
       "      <th>oilrate</th>\n",
       "      <th>waterrate</th>\n",
       "      <th>sand</th>\n",
       "    </tr>\n",
       "  </thead>\n",
       "  <tbody>\n",
       "    <tr>\n",
       "      <th>0</th>\n",
       "      <td>1987-12-01</td>\n",
       "      <td>01-02</td>\n",
       "      <td>432.0</td>\n",
       "      <td>0.0</td>\n",
       "      <td>CHANNEL</td>\n",
       "    </tr>\n",
       "    <tr>\n",
       "      <th>1</th>\n",
       "      <td>1988-01-01</td>\n",
       "      <td>01-02</td>\n",
       "      <td>518.0</td>\n",
       "      <td>0.0</td>\n",
       "      <td>CHANNEL</td>\n",
       "    </tr>\n",
       "    <tr>\n",
       "      <th>2</th>\n",
       "      <td>1988-02-01</td>\n",
       "      <td>01-02</td>\n",
       "      <td>452.0</td>\n",
       "      <td>0.0</td>\n",
       "      <td>CHANNEL</td>\n",
       "    </tr>\n",
       "    <tr>\n",
       "      <th>3</th>\n",
       "      <td>1988-03-01</td>\n",
       "      <td>01-02</td>\n",
       "      <td>446.0</td>\n",
       "      <td>0.0</td>\n",
       "      <td>CHANNEL</td>\n",
       "    </tr>\n",
       "    <tr>\n",
       "      <th>4</th>\n",
       "      <td>1988-04-01</td>\n",
       "      <td>01-02</td>\n",
       "      <td>450.0</td>\n",
       "      <td>0.0</td>\n",
       "      <td>CHANNEL</td>\n",
       "    </tr>\n",
       "  </tbody>\n",
       "</table>\n",
       "</div>"
      ],
      "text/plain": [
       "        date   well  oilrate  waterrate     sand\n",
       "0 1987-12-01  01-02    432.0        0.0  CHANNEL\n",
       "1 1988-01-01  01-02    518.0        0.0  CHANNEL\n",
       "2 1988-02-01  01-02    452.0        0.0  CHANNEL\n",
       "3 1988-03-01  01-02    446.0        0.0  CHANNEL\n",
       "4 1988-04-01  01-02    450.0        0.0  CHANNEL"
      ]
     },
     "execution_count": 244,
     "metadata": {},
     "output_type": "execute_result"
    }
   ],
   "source": [
    "df = pd.read_csv(\"Dataset.csv\",parse_dates=['Date'])\n",
    "\n",
    "df.columns=['date','well','oilrate','waterrate','sand']\n",
    "dt = df['date'].dt\n",
    "df.dropna(inplace=True)\n",
    "\n",
    "df.head()"
   ]
  },
  {
   "cell_type": "markdown",
   "metadata": {},
   "source": [
    "# Calculate MHI and Cum MHI"
   ]
  },
  {
   "cell_type": "code",
   "execution_count": 265,
   "metadata": {},
   "outputs": [],
   "source": [
    "wells = df['well'].unique()\n",
    "sands = df['sand'].unique()"
   ]
  },
  {
   "cell_type": "code",
   "execution_count": 264,
   "metadata": {},
   "outputs": [],
   "source": [
    "ave_grouped_rate = df.groupby(['sand','date']).mean()\n",
    "max_grouped_rate = df.groupby(['sand','date']).max()\n",
    "min_grouped_rate = df.groupby(['sand','date']).min()"
   ]
  },
  {
   "cell_type": "code",
   "execution_count": 247,
   "metadata": {},
   "outputs": [
    {
     "name": "stderr",
     "output_type": "stream",
     "text": [
      "C:\\Users\\ANaufal\\AppData\\Local\\Continuum\\anaconda3\\lib\\site-packages\\ipykernel_launcher.py:9: RuntimeWarning: invalid value encountered in double_scalars\n",
      "  if __name__ == '__main__':\n"
     ]
    }
   ],
   "source": [
    "hi_types = {\n",
    "    'hi_oil':'oilrate',\n",
    "    'hi_water':'waterrate'\n",
    "}\n",
    "\n",
    "def calc_HI(row):\n",
    "    if row[hi_types[key]] > 0:\n",
    "        return (row[hi_types[key]]-ave_grouped_rate.loc[(row['sand'],row['date']),hi_types[key]])/\\\n",
    "             (max_grouped_rate.loc[(row['sand'],row['date']),hi_types[key]]-min_grouped_rate.loc[(row['sand'],row['date']),hi_types[key]])\n",
    "    else:\n",
    "        return 0\n",
    "    \n",
    "for key in hi_types.keys():\n",
    "    df[key] = df.apply(lambda row: calc_HI(row),axis=1)\n",
    "    df['cum_'+ key] = df.groupby('well').cumsum()[key]"
   ]
  },
  {
   "cell_type": "markdown",
   "metadata": {},
   "source": [
    "# Classify Wells to Quadrants"
   ]
  },
  {
   "cell_type": "code",
   "execution_count": 248,
   "metadata": {},
   "outputs": [],
   "source": [
    "def classify(df):\n",
    "    w_dict = {}\n",
    "    \n",
    "    for w in df['well'].unique():\n",
    "        last_cum_hi_oil = df[(df['well']==w) & (df['date']==df[df['well']==w]['date'].max())]['cum_hi_oil'].iloc[0]\n",
    "        last_cum_hi_water = df[(df['well']==w) & (df['date']==df[df['well']==w]['date'].max())]['cum_hi_water'].iloc[0]\n",
    "        \n",
    "        if last_cum_hi_oil > 0 and last_cum_hi_water > 0:\n",
    "            w_dict[w] = 'High Oil and High Water'\n",
    "        elif last_cum_hi_oil <= 0 and last_cum_hi_water > 0:\n",
    "            w_dict[w] = 'Low Oil and High Water'\n",
    "        elif last_cum_hi_oil > 0 and last_cum_hi_water <= 0:\n",
    "            w_dict[w] = 'High Oil and Low Water'\n",
    "        elif last_cum_hi_oil <= 0 and last_cum_hi_water <= 0:\n",
    "            w_dict[w] = 'Low Oil and Low Water'\n",
    "    \n",
    "    return df['well'].map(w_dict)\n",
    "\n",
    "df['class'] = classify(df)"
   ]
  },
  {
   "cell_type": "markdown",
   "metadata": {},
   "source": [
    "# Plot MHI Scatter Plot"
   ]
  },
  {
   "cell_type": "code",
   "execution_count": 266,
   "metadata": {},
   "outputs": [
    {
     "data": {
      "application/vnd.jupyter.widget-view+json": {
       "model_id": "edb4ff7c9acc4e1893e9a78b17e942dd",
       "version_major": 2,
       "version_minor": 0
      },
      "text/plain": [
       "HBox(children=(Button(description='CHANNEL', style=ButtonStyle()), Button(description='VALLEY', style=ButtonSt…"
      ]
     },
     "metadata": {},
     "output_type": "display_data"
    },
    {
     "data": {
      "application/vnd.jupyter.widget-view+json": {
       "model_id": "70d09005859a4d8f958f8feb94dcbecc",
       "version_major": 2,
       "version_minor": 0
      },
      "text/plain": [
       "interactive(children=(SelectionSlider(continuous_update=False, description='Date', options=(('1978-11-01', Tim…"
      ]
     },
     "metadata": {},
     "output_type": "display_data"
    }
   ],
   "source": [
    "items = [widgets.Button(description=w) for w in df['sand'].unique()]\n",
    "display(widgets.HBox([items[0],items[1]]))\n",
    "\n",
    "fmt='%Y-%m-%d'\n",
    "date_range = pd.date_range(start=df[df['sand']=='CHANNEL']['date'].min(),end=df[df['sand']=='CHANNEL']['date'].max(),freq='MS')\n",
    "options = [(item.strftime(fmt),item) for item in date_range]\n",
    "\n",
    "slider = widgets.SelectionSlider(\n",
    "    description='Date',\n",
    "    options=options,\n",
    "    continuous_update=False\n",
    ") \n",
    "\n",
    "def plot(sand,date):\n",
    "    clear_output(wait=True)\n",
    "    plt.figure(figsize=(10,10))\n",
    "    plt.xlim(-30,70)\n",
    "    plt.ylim(-30,130)\n",
    "    plt.axvline(0,color='black')\n",
    "    plt.axhline(0,color='black')\n",
    "    hue_dict = {\n",
    "        'High Oil and Low Water': 'g',\n",
    "        'Low Oil and High Water': 'brown',\n",
    "        'High Oil and High Water': 'b',\n",
    "        'Low Oil and Low Water': 'r'\n",
    "    }\n",
    "    sns.scatterplot('cum_hi_oil','cum_hi_water',data=df[(df['sand']==sand)&(df['date']==date)],\n",
    "                    hue='class', palette=hue_dict,s=50)\n",
    "    plt.legend(loc=1)\n",
    "\n",
    "def scatter(b):\n",
    "    clear_output(wait=True)\n",
    "    display(widgets.HBox([items[0],items[1]]))\n",
    "    interact(plot,date=slider,sand=fixed(b.description))\n",
    "\n",
    "    \n",
    "items[0].on_click(scatter)\n",
    "items[1].on_click(scatter)\n"
   ]
  },
  {
   "cell_type": "code",
   "execution_count": null,
   "metadata": {},
   "outputs": [],
   "source": []
  }
 ],
 "metadata": {
  "kernelspec": {
   "display_name": "Python 3",
   "language": "python",
   "name": "python3"
  },
  "language_info": {
   "codemirror_mode": {
    "name": "ipython",
    "version": 3
   },
   "file_extension": ".py",
   "mimetype": "text/x-python",
   "name": "python",
   "nbconvert_exporter": "python",
   "pygments_lexer": "ipython3",
   "version": "3.7.3"
  }
 },
 "nbformat": 4,
 "nbformat_minor": 2
}
